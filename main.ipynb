{
 "cells": [
  {
   "cell_type": "code",
   "execution_count": 261,
   "id": "initial_id",
   "metadata": {
    "collapsed": true,
    "ExecuteTime": {
     "end_time": "2024-03-12T12:44:02.092372Z",
     "start_time": "2024-03-12T12:44:02.087846Z"
    }
   },
   "outputs": [],
   "source": [
    "import numpy as np\n",
    "import pandas as pd\n",
    "from sklearn import datasets\n",
    "\n",
    "random_state = 12"
   ]
  },
  {
   "cell_type": "code",
   "outputs": [],
   "source": [
    "dataset = datasets.load_breast_cancer()\n",
    "X = pd.DataFrame(dataset.data, columns=dataset['feature_names'])\n",
    "y = dataset.target"
   ],
   "metadata": {
    "collapsed": false,
    "ExecuteTime": {
     "end_time": "2024-03-12T12:44:02.293308Z",
     "start_time": "2024-03-12T12:44:02.284008Z"
    }
   },
   "id": "897babdadc856db2",
   "execution_count": 262
  },
  {
   "cell_type": "code",
   "outputs": [],
   "source": [
    "from sklearn.model_selection import train_test_split\n",
    "\n",
    "X_train, X_test, y_train, y_test = train_test_split(X, y, random_state=random_state, train_size=0.8)\n",
    "X_train, X_val, y_train, y_val = train_test_split(X_train, y_train, random_state=random_state, train_size=0.8)"
   ],
   "metadata": {
    "collapsed": false,
    "ExecuteTime": {
     "end_time": "2024-03-12T12:46:39.736457Z",
     "start_time": "2024-03-12T12:46:39.731837Z"
    }
   },
   "id": "5f78793dc605d59e",
   "execution_count": 280
  },
  {
   "cell_type": "code",
   "outputs": [],
   "source": [
    "import pandas as pd\n",
    "from sklearn.neighbors import BallTree\n",
    "from sklearn.metrics import f1_score\n",
    "from scipy import stats as st\n",
    "\n",
    "\n",
    "class KNNClassifier:\n",
    "    bt: BallTree = None\n",
    "    ys: np.ndarray = None\n",
    "    weights: np.ndarray = None\n",
    "    kernels = {\n",
    "        'uniform': lambda x: st.uniform.pdf(x, loc=-1, scale=2),\n",
    "        'gaussian': st.norm.pdf,\n",
    "        'triangular': lambda x: st.triang.pdf(x, c=0.5, loc=-1, scale=2),\n",
    "        'epanechnikov': lambda x: 3 / 4 * (1 - x ** 2) * (x < 1)\n",
    "    }\n",
    "    metrics = set(BallTree.valid_metrics)\n",
    "\n",
    "    def __init__(self, window: float | None = None, metric: str = 'euclidean', kernel: str = 'gaussian',\n",
    "                 k: int = 1, window_type: str = 'non_fixed', leaf_size: int = 30, lowess_iterations: int = 1):\n",
    "        assert metric in self.metrics\n",
    "        assert kernel in self.kernels\n",
    "\n",
    "        self.k = k\n",
    "        self.lowess_iterations = lowess_iterations\n",
    "        self.window = None if window_type != 'fixed' else window\n",
    "        self.n_classes = None\n",
    "        self.metric = metric\n",
    "        self.kernel = self.kernels[kernel]\n",
    "        self.leaf_size = leaf_size\n",
    "\n",
    "    def fit(self, x: pd.DataFrame, y: np.ndarray):\n",
    "        x = x.reset_index(drop=True)\n",
    "        self.ys = y\n",
    "        self.n_classes = len(np.unique(y))\n",
    "        self.weights = np.array([1.0] * len(y))\n",
    "        for i in range(self.lowess_iterations):\n",
    "            for j in range(len(y)):\n",
    "                self.bt = BallTree(x.drop(j), self.leaf_size, metric=self.metric)\n",
    "                pred = self.predict(x.iloc[j:j + 1])[0]\n",
    "                self.weights[j] = st.norm.pdf(y[j] - pred)\n",
    "\n",
    "        self.bt = BallTree(x, self.leaf_size, metric=self.metric)\n",
    "        return self\n",
    "\n",
    "    def predict(self, x: pd.DataFrame) -> np.ndarray:\n",
    "        distances, neighbours = self.bt.query(x, self.k + 1 if self.window is None else self.k)\n",
    "        if self.window is None:\n",
    "            neighbours = np.delete(neighbours, self.k, 1)\n",
    "        neighbours = pd.DataFrame(neighbours)\n",
    "        weights = neighbours.applymap(lambda x: self.weights[x]).to_numpy()\n",
    "        distances: np.ndarray = distances\n",
    "        h = self.window if self.window is not None else distances.T[-1][:, None]\n",
    "        distances /= h\n",
    "        distances = self.kernel(distances)\n",
    "        ys = neighbours.applymap(lambda x: self.ys[x]).astype(int).T\n",
    "        if self.window is None:\n",
    "            distances = np.delete(distances, self.k, 1)\n",
    "\n",
    "        distances *= weights\n",
    "        answers = np.array([0] * len(x))\n",
    "        s: np.ndarray = np.array([0.0] * self.n_classes)\n",
    "        for i in range(len(x)):\n",
    "            s.fill(0)\n",
    "            for j, dist in enumerate(distances[i]):\n",
    "                s[ys[i][j]] += dist\n",
    "            answers[i] = np.argmax(s)\n",
    "\n",
    "        return answers\n",
    "\n",
    "    def score(self, x: pd.DataFrame, y: np.ndarray) -> np.float32:\n",
    "        return f1_score(y, self.predict(x))\n"
   ],
   "metadata": {
    "collapsed": false,
    "ExecuteTime": {
     "end_time": "2024-03-12T12:46:40.240430Z",
     "start_time": "2024-03-12T12:46:40.232299Z"
    }
   },
   "id": "1e1615afcfe83cc3",
   "execution_count": 281
  },
  {
   "cell_type": "code",
   "outputs": [],
   "source": [
    "knn = KNNClassifier(window=10000.0, metric='euclidean', kernel='epanechnikov', k=5)"
   ],
   "metadata": {
    "collapsed": false,
    "ExecuteTime": {
     "end_time": "2024-03-12T12:46:40.824473Z",
     "start_time": "2024-03-12T12:46:40.822163Z"
    }
   },
   "id": "14444ada051105e8",
   "execution_count": 282
  },
  {
   "cell_type": "code",
   "outputs": [],
   "source": [
    "knn = knn.fit(X_train, y_train)"
   ],
   "metadata": {
    "collapsed": false,
    "ExecuteTime": {
     "end_time": "2024-03-12T12:46:42.048185Z",
     "start_time": "2024-03-12T12:46:41.349767Z"
    }
   },
   "id": "d7c7bd61b6c63a89",
   "execution_count": 283
  },
  {
   "cell_type": "code",
   "outputs": [
    {
     "data": {
      "text/plain": "0.920863309352518"
     },
     "execution_count": 284,
     "metadata": {},
     "output_type": "execute_result"
    }
   ],
   "source": [
    "knn.score(X_test, y_test)"
   ],
   "metadata": {
    "collapsed": false,
    "ExecuteTime": {
     "end_time": "2024-03-12T12:46:42.058570Z",
     "start_time": "2024-03-12T12:46:42.049291Z"
    }
   },
   "id": "660ced47c2ec4045",
   "execution_count": 284
  },
  {
   "cell_type": "code",
   "outputs": [],
   "source": [
    "import optuna\n",
    "\n",
    "\n",
    "def optimize(trial):\n",
    "    window_type = trial.suggest_categorical('window_type', ['fixed', 'non_fixed'])\n",
    "    window = None if window_type != 'fixed' else trial.suggest_float('window', 0, 200000, step=1000)\n",
    "    metric = trial.suggest_categorical('metric', ['euclidean', 'minkowski', 'chebyshev', 'l1'])\n",
    "    kernel = trial.suggest_categorical('kernel', KNNClassifier.kernels.keys())\n",
    "    k = trial.suggest_int('k', 1, 15)\n",
    "    leaf_size = trial.suggest_int('leaf_size', 10, 60)\n",
    "    lowess_iterations = trial.suggest_int('lowess_iterations', 0, 1)\n",
    "\n",
    "    knn = KNNClassifier(window=window, metric=metric, kernel=kernel, k=k, window_type=window_type, leaf_size=leaf_size,\n",
    "                        lowess_iterations=lowess_iterations).fit(X_train, y_train)\n",
    "    return knn.score(X_val, y_val)"
   ],
   "metadata": {
    "collapsed": false,
    "ExecuteTime": {
     "end_time": "2024-03-12T12:46:42.992640Z",
     "start_time": "2024-03-12T12:46:42.988985Z"
    }
   },
   "id": "1e37d5263c2bc19d",
   "execution_count": 285
  },
  {
   "cell_type": "code",
   "outputs": [
    {
     "name": "stderr",
     "output_type": "stream",
     "text": [
      "[I 2024-03-12 15:46:43,436] A new study created in memory with name: no-name-7bc37e46-bdb6-47c7-b832-74830c0b3839\n",
      "[I 2024-03-12 15:46:44,204] Trial 0 finished with value: 0.9814814814814815 and parameters: {'window_type': 'non_fixed', 'metric': 'l1', 'kernel': 'triangular', 'k': 5, 'leaf_size': 40, 'lowess_iterations': 1}. Best is trial 0 with value: 0.9814814814814815.\n",
      "[I 2024-03-12 15:46:44,210] Trial 1 finished with value: 0.9622641509433962 and parameters: {'window_type': 'fixed', 'window': 104000.0, 'metric': 'chebyshev', 'kernel': 'uniform', 'k': 5, 'leaf_size': 44, 'lowess_iterations': 0}. Best is trial 0 with value: 0.9814814814814815.\n",
      "[I 2024-03-12 15:46:44,218] Trial 2 finished with value: 0.9719626168224299 and parameters: {'window_type': 'fixed', 'window': 147000.0, 'metric': 'l1', 'kernel': 'gaussian', 'k': 7, 'leaf_size': 33, 'lowess_iterations': 0}. Best is trial 0 with value: 0.9814814814814815.\n",
      "[I 2024-03-12 15:46:44,226] Trial 3 finished with value: 0.9719626168224299 and parameters: {'window_type': 'fixed', 'window': 193000.0, 'metric': 'chebyshev', 'kernel': 'epanechnikov', 'k': 10, 'leaf_size': 11, 'lowess_iterations': 0}. Best is trial 0 with value: 0.9814814814814815.\n",
      "[I 2024-03-12 15:46:45,004] Trial 4 finished with value: 0.9719626168224299 and parameters: {'window_type': 'fixed', 'window': 105000.0, 'metric': 'l1', 'kernel': 'triangular', 'k': 8, 'leaf_size': 33, 'lowess_iterations': 1}. Best is trial 0 with value: 0.9814814814814815.\n",
      "[I 2024-03-12 15:46:45,780] Trial 5 finished with value: 0.9719626168224299 and parameters: {'window_type': 'fixed', 'window': 89000.0, 'metric': 'l1', 'kernel': 'epanechnikov', 'k': 10, 'leaf_size': 53, 'lowess_iterations': 1}. Best is trial 0 with value: 0.9814814814814815.\n",
      "[I 2024-03-12 15:46:45,789] Trial 6 finished with value: 0.9719626168224299 and parameters: {'window_type': 'non_fixed', 'metric': 'euclidean', 'kernel': 'gaussian', 'k': 13, 'leaf_size': 45, 'lowess_iterations': 0}. Best is trial 0 with value: 0.9814814814814815.\n",
      "[I 2024-03-12 15:46:45,799] Trial 7 finished with value: 0.9719626168224299 and parameters: {'window_type': 'non_fixed', 'metric': 'minkowski', 'kernel': 'uniform', 'k': 13, 'leaf_size': 56, 'lowess_iterations': 0}. Best is trial 0 with value: 0.9814814814814815.\n",
      "[I 2024-03-12 15:46:45,804] Trial 8 finished with value: 0.9615384615384615 and parameters: {'window_type': 'non_fixed', 'metric': 'minkowski', 'kernel': 'epanechnikov', 'k': 3, 'leaf_size': 19, 'lowess_iterations': 0}. Best is trial 0 with value: 0.9814814814814815.\n",
      "[I 2024-03-12 15:46:45,811] Trial 9 finished with value: 0.9622641509433962 and parameters: {'window_type': 'fixed', 'window': 22000.0, 'metric': 'euclidean', 'kernel': 'gaussian', 'k': 6, 'leaf_size': 19, 'lowess_iterations': 0}. Best is trial 0 with value: 0.9814814814814815.\n",
      "[I 2024-03-12 15:46:46,408] Trial 10 finished with value: 0.9615384615384615 and parameters: {'window_type': 'non_fixed', 'metric': 'l1', 'kernel': 'triangular', 'k': 1, 'leaf_size': 42, 'lowess_iterations': 1}. Best is trial 0 with value: 0.9814814814814815.\n",
      "[I 2024-03-12 15:46:47,109] Trial 11 finished with value: 0.9719626168224299 and parameters: {'window_type': 'non_fixed', 'metric': 'l1', 'kernel': 'gaussian', 'k': 6, 'leaf_size': 31, 'lowess_iterations': 1}. Best is trial 0 with value: 0.9814814814814815.\n",
      "[I 2024-03-12 15:46:47,755] Trial 12 finished with value: 0.9811320754716981 and parameters: {'window_type': 'non_fixed', 'metric': 'l1', 'kernel': 'triangular', 'k': 3, 'leaf_size': 27, 'lowess_iterations': 1}. Best is trial 0 with value: 0.9814814814814815.\n",
      "[I 2024-03-12 15:46:48,396] Trial 13 finished with value: 0.9811320754716981 and parameters: {'window_type': 'non_fixed', 'metric': 'l1', 'kernel': 'triangular', 'k': 3, 'leaf_size': 25, 'lowess_iterations': 1}. Best is trial 0 with value: 0.9814814814814815.\n",
      "[I 2024-03-12 15:46:48,974] Trial 14 finished with value: 0.9615384615384615 and parameters: {'window_type': 'non_fixed', 'metric': 'l1', 'kernel': 'triangular', 'k': 1, 'leaf_size': 38, 'lowess_iterations': 1}. Best is trial 0 with value: 0.9814814814814815.\n",
      "[I 2024-03-12 15:46:49,650] Trial 15 finished with value: 0.9814814814814815 and parameters: {'window_type': 'non_fixed', 'metric': 'l1', 'kernel': 'triangular', 'k': 4, 'leaf_size': 26, 'lowess_iterations': 1}. Best is trial 0 with value: 0.9814814814814815.\n",
      "[I 2024-03-12 15:46:50,478] Trial 16 finished with value: 0.9719626168224299 and parameters: {'window_type': 'non_fixed', 'metric': 'minkowski', 'kernel': 'triangular', 'k': 10, 'leaf_size': 50, 'lowess_iterations': 1}. Best is trial 0 with value: 0.9814814814814815.\n",
      "[I 2024-03-12 15:46:51,152] Trial 17 finished with value: 0.9719626168224299 and parameters: {'window_type': 'non_fixed', 'metric': 'euclidean', 'kernel': 'triangular', 'k': 4, 'leaf_size': 23, 'lowess_iterations': 1}. Best is trial 0 with value: 0.9814814814814815.\n",
      "[I 2024-03-12 15:46:51,964] Trial 18 finished with value: 0.9719626168224299 and parameters: {'window_type': 'non_fixed', 'metric': 'chebyshev', 'kernel': 'triangular', 'k': 8, 'leaf_size': 12, 'lowess_iterations': 1}. Best is trial 0 with value: 0.9814814814814815.\n",
      "[I 2024-03-12 15:46:52,607] Trial 19 finished with value: 0.9719626168224299 and parameters: {'window_type': 'non_fixed', 'metric': 'l1', 'kernel': 'uniform', 'k': 4, 'leaf_size': 39, 'lowess_iterations': 1}. Best is trial 0 with value: 0.9814814814814815.\n",
      "[I 2024-03-12 15:46:53,221] Trial 20 finished with value: 0.9714285714285714 and parameters: {'window_type': 'non_fixed', 'metric': 'l1', 'kernel': 'triangular', 'k': 2, 'leaf_size': 29, 'lowess_iterations': 1}. Best is trial 0 with value: 0.9814814814814815.\n",
      "[I 2024-03-12 15:46:53,917] Trial 21 finished with value: 0.9814814814814815 and parameters: {'window_type': 'non_fixed', 'metric': 'l1', 'kernel': 'triangular', 'k': 5, 'leaf_size': 27, 'lowess_iterations': 1}. Best is trial 0 with value: 0.9814814814814815.\n",
      "[I 2024-03-12 15:46:54,650] Trial 22 finished with value: 0.9814814814814815 and parameters: {'window_type': 'non_fixed', 'metric': 'l1', 'kernel': 'triangular', 'k': 5, 'leaf_size': 18, 'lowess_iterations': 1}. Best is trial 0 with value: 0.9814814814814815.\n",
      "[I 2024-03-12 15:46:55,673] Trial 23 finished with value: 0.9719626168224299 and parameters: {'window_type': 'non_fixed', 'metric': 'l1', 'kernel': 'triangular', 'k': 15, 'leaf_size': 37, 'lowess_iterations': 1}. Best is trial 0 with value: 0.9814814814814815.\n",
      "[I 2024-03-12 15:46:56,435] Trial 24 finished with value: 0.9814814814814815 and parameters: {'window_type': 'non_fixed', 'metric': 'l1', 'kernel': 'triangular', 'k': 6, 'leaf_size': 24, 'lowess_iterations': 1}. Best is trial 0 with value: 0.9814814814814815.\n",
      "[I 2024-03-12 15:46:57,172] Trial 25 finished with value: 0.9814814814814815 and parameters: {'window_type': 'non_fixed', 'metric': 'l1', 'kernel': 'triangular', 'k': 5, 'leaf_size': 48, 'lowess_iterations': 1}. Best is trial 0 with value: 0.9814814814814815.\n",
      "[I 2024-03-12 15:46:57,952] Trial 26 finished with value: 0.9719626168224299 and parameters: {'window_type': 'non_fixed', 'metric': 'chebyshev', 'kernel': 'triangular', 'k': 7, 'leaf_size': 29, 'lowess_iterations': 1}. Best is trial 0 with value: 0.9814814814814815.\n",
      "[I 2024-03-12 15:46:58,606] Trial 27 finished with value: 0.9719626168224299 and parameters: {'window_type': 'non_fixed', 'metric': 'minkowski', 'kernel': 'uniform', 'k': 4, 'leaf_size': 34, 'lowess_iterations': 1}. Best is trial 0 with value: 0.9814814814814815.\n",
      "[I 2024-03-12 15:46:59,175] Trial 28 finished with value: 0.9615384615384615 and parameters: {'window_type': 'non_fixed', 'metric': 'euclidean', 'kernel': 'epanechnikov', 'k': 2, 'leaf_size': 60, 'lowess_iterations': 1}. Best is trial 0 with value: 0.9814814814814815.\n",
      "[I 2024-03-12 15:46:59,972] Trial 29 finished with value: 0.9541284403669724 and parameters: {'window_type': 'fixed', 'window': 7000.0, 'metric': 'chebyshev', 'kernel': 'uniform', 'k': 9, 'leaf_size': 15, 'lowess_iterations': 1}. Best is trial 0 with value: 0.9814814814814815.\n",
      "[I 2024-03-12 15:47:00,736] Trial 30 finished with value: 0.9814814814814815 and parameters: {'window_type': 'non_fixed', 'metric': 'l1', 'kernel': 'triangular', 'k': 7, 'leaf_size': 44, 'lowess_iterations': 1}. Best is trial 0 with value: 0.9814814814814815.\n",
      "[I 2024-03-12 15:47:01,458] Trial 31 finished with value: 0.9814814814814815 and parameters: {'window_type': 'non_fixed', 'metric': 'l1', 'kernel': 'triangular', 'k': 5, 'leaf_size': 20, 'lowess_iterations': 1}. Best is trial 0 with value: 0.9814814814814815.\n",
      "[I 2024-03-12 15:47:02,182] Trial 32 finished with value: 0.9814814814814815 and parameters: {'window_type': 'non_fixed', 'metric': 'l1', 'kernel': 'triangular', 'k': 5, 'leaf_size': 16, 'lowess_iterations': 1}. Best is trial 0 with value: 0.9814814814814815.\n",
      "[I 2024-03-12 15:47:02,894] Trial 33 finished with value: 0.9814814814814815 and parameters: {'window_type': 'non_fixed', 'metric': 'l1', 'kernel': 'triangular', 'k': 5, 'leaf_size': 27, 'lowess_iterations': 1}. Best is trial 0 with value: 0.9814814814814815.\n",
      "[I 2024-03-12 15:47:03,571] Trial 34 finished with value: 0.9719626168224299 and parameters: {'window_type': 'fixed', 'window': 62000.0, 'metric': 'l1', 'kernel': 'triangular', 'k': 4, 'leaf_size': 23, 'lowess_iterations': 1}. Best is trial 0 with value: 0.9814814814814815.\n",
      "[I 2024-03-12 15:47:03,590] Trial 35 finished with value: 0.9719626168224299 and parameters: {'window_type': 'fixed', 'window': 193000.0, 'metric': 'l1', 'kernel': 'gaussian', 'k': 6, 'leaf_size': 14, 'lowess_iterations': 0}. Best is trial 0 with value: 0.9814814814814815.\n",
      "[I 2024-03-12 15:47:04,312] Trial 36 finished with value: 0.9719626168224299 and parameters: {'window_type': 'non_fixed', 'metric': 'l1', 'kernel': 'epanechnikov', 'k': 7, 'leaf_size': 32, 'lowess_iterations': 1}. Best is trial 0 with value: 0.9814814814814815.\n",
      "[I 2024-03-12 15:47:04,980] Trial 37 finished with value: 0.9514563106796117 and parameters: {'window_type': 'non_fixed', 'metric': 'chebyshev', 'kernel': 'triangular', 'k': 2, 'leaf_size': 18, 'lowess_iterations': 1}. Best is trial 0 with value: 0.9814814814814815.\n",
      "[I 2024-03-12 15:47:05,000] Trial 38 finished with value: 0.9719626168224299 and parameters: {'window_type': 'fixed', 'window': 157000.0, 'metric': 'l1', 'kernel': 'triangular', 'k': 9, 'leaf_size': 36, 'lowess_iterations': 0}. Best is trial 0 with value: 0.9814814814814815.\n",
      "[I 2024-03-12 15:47:05,629] Trial 39 finished with value: 0.9719626168224299 and parameters: {'window_type': 'non_fixed', 'metric': 'euclidean', 'kernel': 'epanechnikov', 'k': 3, 'leaf_size': 41, 'lowess_iterations': 1}. Best is trial 0 with value: 0.9814814814814815.\n",
      "[I 2024-03-12 15:47:05,646] Trial 40 finished with value: 0.9622641509433962 and parameters: {'window_type': 'non_fixed', 'metric': 'minkowski', 'kernel': 'gaussian', 'k': 7, 'leaf_size': 21, 'lowess_iterations': 0}. Best is trial 0 with value: 0.9814814814814815.\n",
      "[I 2024-03-12 15:47:06,475] Trial 41 finished with value: 0.9814814814814815 and parameters: {'window_type': 'non_fixed', 'metric': 'l1', 'kernel': 'triangular', 'k': 6, 'leaf_size': 23, 'lowess_iterations': 1}. Best is trial 0 with value: 0.9814814814814815.\n",
      "[I 2024-03-12 15:47:07,244] Trial 42 finished with value: 0.9814814814814815 and parameters: {'window_type': 'non_fixed', 'metric': 'l1', 'kernel': 'triangular', 'k': 6, 'leaf_size': 25, 'lowess_iterations': 1}. Best is trial 0 with value: 0.9814814814814815.\n",
      "[I 2024-03-12 15:47:07,975] Trial 43 finished with value: 0.9814814814814815 and parameters: {'window_type': 'non_fixed', 'metric': 'l1', 'kernel': 'triangular', 'k': 5, 'leaf_size': 29, 'lowess_iterations': 1}. Best is trial 0 with value: 0.9814814814814815.\n",
      "[I 2024-03-12 15:47:08,697] Trial 44 finished with value: 0.9814814814814815 and parameters: {'window_type': 'non_fixed', 'metric': 'l1', 'kernel': 'triangular', 'k': 4, 'leaf_size': 10, 'lowess_iterations': 1}. Best is trial 0 with value: 0.9814814814814815.\n",
      "[I 2024-03-12 15:47:09,446] Trial 45 finished with value: 0.9814814814814815 and parameters: {'window_type': 'non_fixed', 'metric': 'l1', 'kernel': 'triangular', 'k': 6, 'leaf_size': 17, 'lowess_iterations': 1}. Best is trial 0 with value: 0.9814814814814815.\n",
      "[I 2024-03-12 15:47:10,072] Trial 46 finished with value: 0.9814814814814815 and parameters: {'window_type': 'fixed', 'window': 47000.0, 'metric': 'l1', 'kernel': 'uniform', 'k': 3, 'leaf_size': 31, 'lowess_iterations': 1}. Best is trial 0 with value: 0.9814814814814815.\n",
      "[I 2024-03-12 15:47:10,869] Trial 47 finished with value: 0.9719626168224299 and parameters: {'window_type': 'non_fixed', 'metric': 'l1', 'kernel': 'triangular', 'k': 8, 'leaf_size': 25, 'lowess_iterations': 1}. Best is trial 0 with value: 0.9814814814814815.\n",
      "[I 2024-03-12 15:47:11,559] Trial 48 finished with value: 0.9719626168224299 and parameters: {'window_type': 'non_fixed', 'metric': 'minkowski', 'kernel': 'triangular', 'k': 4, 'leaf_size': 21, 'lowess_iterations': 1}. Best is trial 0 with value: 0.9814814814814815.\n",
      "[I 2024-03-12 15:47:12,319] Trial 49 finished with value: 0.9719626168224299 and parameters: {'window_type': 'non_fixed', 'metric': 'euclidean', 'kernel': 'gaussian', 'k': 8, 'leaf_size': 34, 'lowess_iterations': 1}. Best is trial 0 with value: 0.9814814814814815.\n",
      "[I 2024-03-12 15:47:12,335] Trial 50 finished with value: 0.9719626168224299 and parameters: {'window_type': 'non_fixed', 'metric': 'l1', 'kernel': 'epanechnikov', 'k': 5, 'leaf_size': 13, 'lowess_iterations': 0}. Best is trial 0 with value: 0.9814814814814815.\n",
      "[I 2024-03-12 15:47:13,067] Trial 51 finished with value: 0.9814814814814815 and parameters: {'window_type': 'non_fixed', 'metric': 'l1', 'kernel': 'triangular', 'k': 6, 'leaf_size': 52, 'lowess_iterations': 1}. Best is trial 0 with value: 0.9814814814814815.\n",
      "[I 2024-03-12 15:47:13,781] Trial 52 finished with value: 0.9814814814814815 and parameters: {'window_type': 'non_fixed', 'metric': 'l1', 'kernel': 'triangular', 'k': 5, 'leaf_size': 44, 'lowess_iterations': 1}. Best is trial 0 with value: 0.9814814814814815.\n",
      "[I 2024-03-12 15:47:14,426] Trial 53 finished with value: 0.9811320754716981 and parameters: {'window_type': 'non_fixed', 'metric': 'l1', 'kernel': 'triangular', 'k': 3, 'leaf_size': 49, 'lowess_iterations': 1}. Best is trial 0 with value: 0.9814814814814815.\n",
      "[I 2024-03-12 15:47:15,333] Trial 54 finished with value: 0.9719626168224299 and parameters: {'window_type': 'non_fixed', 'metric': 'l1', 'kernel': 'triangular', 'k': 12, 'leaf_size': 47, 'lowess_iterations': 1}. Best is trial 0 with value: 0.9814814814814815.\n",
      "[I 2024-03-12 15:47:16,028] Trial 55 finished with value: 0.9814814814814815 and parameters: {'window_type': 'non_fixed', 'metric': 'l1', 'kernel': 'triangular', 'k': 4, 'leaf_size': 56, 'lowess_iterations': 1}. Best is trial 0 with value: 0.9814814814814815.\n",
      "[I 2024-03-12 15:47:16,775] Trial 56 finished with value: 0.9719626168224299 and parameters: {'window_type': 'non_fixed', 'metric': 'chebyshev', 'kernel': 'triangular', 'k': 5, 'leaf_size': 41, 'lowess_iterations': 1}. Best is trial 0 with value: 0.9814814814814815.\n",
      "[I 2024-03-12 15:47:17,586] Trial 57 finished with value: 0.9814814814814815 and parameters: {'window_type': 'non_fixed', 'metric': 'l1', 'kernel': 'triangular', 'k': 7, 'leaf_size': 27, 'lowess_iterations': 1}. Best is trial 0 with value: 0.9814814814814815.\n",
      "[I 2024-03-12 15:47:18,192] Trial 58 finished with value: 0.9811320754716981 and parameters: {'window_type': 'non_fixed', 'metric': 'l1', 'kernel': 'uniform', 'k': 2, 'leaf_size': 39, 'lowess_iterations': 1}. Best is trial 0 with value: 0.9814814814814815.\n",
      "[I 2024-03-12 15:47:18,923] Trial 59 finished with value: 0.9532710280373832 and parameters: {'window_type': 'fixed', 'window': 147000.0, 'metric': 'minkowski', 'kernel': 'triangular', 'k': 6, 'leaf_size': 47, 'lowess_iterations': 1}. Best is trial 0 with value: 0.9814814814814815.\n",
      "[I 2024-03-12 15:47:19,774] Trial 60 finished with value: 0.9719626168224299 and parameters: {'window_type': 'non_fixed', 'metric': 'euclidean', 'kernel': 'triangular', 'k': 9, 'leaf_size': 23, 'lowess_iterations': 1}. Best is trial 0 with value: 0.9814814814814815.\n",
      "[I 2024-03-12 15:47:20,573] Trial 61 finished with value: 0.9814814814814815 and parameters: {'window_type': 'non_fixed', 'metric': 'l1', 'kernel': 'triangular', 'k': 7, 'leaf_size': 44, 'lowess_iterations': 1}. Best is trial 0 with value: 0.9814814814814815.\n",
      "[I 2024-03-12 15:47:21,279] Trial 62 finished with value: 0.9814814814814815 and parameters: {'window_type': 'non_fixed', 'metric': 'l1', 'kernel': 'triangular', 'k': 5, 'leaf_size': 46, 'lowess_iterations': 1}. Best is trial 0 with value: 0.9814814814814815.\n",
      "[I 2024-03-12 15:47:22,056] Trial 63 finished with value: 0.9814814814814815 and parameters: {'window_type': 'non_fixed', 'metric': 'l1', 'kernel': 'triangular', 'k': 7, 'leaf_size': 27, 'lowess_iterations': 1}. Best is trial 0 with value: 0.9814814814814815.\n",
      "[I 2024-03-12 15:47:22,742] Trial 64 finished with value: 0.9814814814814815 and parameters: {'window_type': 'non_fixed', 'metric': 'l1', 'kernel': 'triangular', 'k': 4, 'leaf_size': 43, 'lowess_iterations': 1}. Best is trial 0 with value: 0.9814814814814815.\n",
      "[I 2024-03-12 15:47:23,417] Trial 65 finished with value: 0.9719626168224299 and parameters: {'window_type': 'non_fixed', 'metric': 'l1', 'kernel': 'gaussian', 'k': 5, 'leaf_size': 50, 'lowess_iterations': 1}. Best is trial 0 with value: 0.9814814814814815.\n",
      "[I 2024-03-12 15:47:24,176] Trial 66 finished with value: 0.9814814814814815 and parameters: {'window_type': 'non_fixed', 'metric': 'l1', 'kernel': 'triangular', 'k': 6, 'leaf_size': 19, 'lowess_iterations': 1}. Best is trial 0 with value: 0.9814814814814815.\n",
      "[I 2024-03-12 15:47:24,834] Trial 67 finished with value: 0.9514563106796117 and parameters: {'window_type': 'non_fixed', 'metric': 'chebyshev', 'kernel': 'triangular', 'k': 3, 'leaf_size': 36, 'lowess_iterations': 1}. Best is trial 0 with value: 0.9814814814814815.\n",
      "[I 2024-03-12 15:47:25,551] Trial 68 finished with value: 0.9719626168224299 and parameters: {'window_type': 'non_fixed', 'metric': 'l1', 'kernel': 'epanechnikov', 'k': 7, 'leaf_size': 41, 'lowess_iterations': 1}. Best is trial 0 with value: 0.9814814814814815.\n",
      "[I 2024-03-12 15:47:26,230] Trial 69 finished with value: 0.9719626168224299 and parameters: {'window_type': 'fixed', 'window': 71000.0, 'metric': 'l1', 'kernel': 'triangular', 'k': 4, 'leaf_size': 53, 'lowess_iterations': 1}. Best is trial 0 with value: 0.9814814814814815.\n",
      "[I 2024-03-12 15:47:26,948] Trial 70 finished with value: 0.9719626168224299 and parameters: {'window_type': 'non_fixed', 'metric': 'l1', 'kernel': 'uniform', 'k': 6, 'leaf_size': 39, 'lowess_iterations': 1}. Best is trial 0 with value: 0.9814814814814815.\n",
      "[I 2024-03-12 15:47:27,695] Trial 71 finished with value: 0.9814814814814815 and parameters: {'window_type': 'non_fixed', 'metric': 'l1', 'kernel': 'triangular', 'k': 5, 'leaf_size': 21, 'lowess_iterations': 1}. Best is trial 0 with value: 0.9814814814814815.\n",
      "[I 2024-03-12 15:47:28,424] Trial 72 finished with value: 0.9814814814814815 and parameters: {'window_type': 'non_fixed', 'metric': 'l1', 'kernel': 'triangular', 'k': 5, 'leaf_size': 21, 'lowess_iterations': 1}. Best is trial 0 with value: 0.9814814814814815.\n",
      "[I 2024-03-12 15:47:29,171] Trial 73 finished with value: 0.9814814814814815 and parameters: {'window_type': 'non_fixed', 'metric': 'l1', 'kernel': 'triangular', 'k': 6, 'leaf_size': 16, 'lowess_iterations': 1}. Best is trial 0 with value: 0.9814814814814815.\n",
      "[I 2024-03-12 15:47:29,830] Trial 74 finished with value: 0.9811320754716981 and parameters: {'window_type': 'non_fixed', 'metric': 'l1', 'kernel': 'triangular', 'k': 3, 'leaf_size': 20, 'lowess_iterations': 1}. Best is trial 0 with value: 0.9814814814814815.\n",
      "[I 2024-03-12 15:47:30,503] Trial 75 finished with value: 0.9814814814814815 and parameters: {'window_type': 'non_fixed', 'metric': 'l1', 'kernel': 'triangular', 'k': 4, 'leaf_size': 18, 'lowess_iterations': 1}. Best is trial 0 with value: 0.9814814814814815.\n",
      "[I 2024-03-12 15:47:31,225] Trial 76 finished with value: 0.9814814814814815 and parameters: {'window_type': 'non_fixed', 'metric': 'l1', 'kernel': 'triangular', 'k': 5, 'leaf_size': 24, 'lowess_iterations': 1}. Best is trial 0 with value: 0.9814814814814815.\n",
      "[I 2024-03-12 15:47:32,211] Trial 77 finished with value: 0.9719626168224299 and parameters: {'window_type': 'non_fixed', 'metric': 'euclidean', 'kernel': 'triangular', 'k': 15, 'leaf_size': 28, 'lowess_iterations': 1}. Best is trial 0 with value: 0.9814814814814815.\n",
      "[I 2024-03-12 15:47:33,004] Trial 78 finished with value: 0.9719626168224299 and parameters: {'window_type': 'non_fixed', 'metric': 'minkowski', 'kernel': 'gaussian', 'k': 8, 'leaf_size': 31, 'lowess_iterations': 1}. Best is trial 0 with value: 0.9814814814814815.\n",
      "[I 2024-03-12 15:47:33,688] Trial 79 finished with value: 0.9719626168224299 and parameters: {'window_type': 'fixed', 'window': 126000.0, 'metric': 'l1', 'kernel': 'triangular', 'k': 4, 'leaf_size': 26, 'lowess_iterations': 1}. Best is trial 0 with value: 0.9814814814814815.\n",
      "[I 2024-03-12 15:47:33,706] Trial 80 finished with value: 0.9719626168224299 and parameters: {'window_type': 'non_fixed', 'metric': 'l1', 'kernel': 'triangular', 'k': 6, 'leaf_size': 29, 'lowess_iterations': 0}. Best is trial 0 with value: 0.9814814814814815.\n",
      "[I 2024-03-12 15:47:34,473] Trial 81 finished with value: 0.9814814814814815 and parameters: {'window_type': 'non_fixed', 'metric': 'l1', 'kernel': 'triangular', 'k': 5, 'leaf_size': 15, 'lowess_iterations': 1}. Best is trial 0 with value: 0.9814814814814815.\n",
      "[I 2024-03-12 15:47:35,411] Trial 82 finished with value: 0.9814814814814815 and parameters: {'window_type': 'non_fixed', 'metric': 'l1', 'kernel': 'triangular', 'k': 6, 'leaf_size': 17, 'lowess_iterations': 1}. Best is trial 0 with value: 0.9814814814814815.\n",
      "[I 2024-03-12 15:47:36,167] Trial 83 finished with value: 0.9814814814814815 and parameters: {'window_type': 'non_fixed', 'metric': 'l1', 'kernel': 'triangular', 'k': 5, 'leaf_size': 12, 'lowess_iterations': 1}. Best is trial 0 with value: 0.9814814814814815.\n",
      "[I 2024-03-12 15:47:36,818] Trial 84 finished with value: 0.9814814814814815 and parameters: {'window_type': 'non_fixed', 'metric': 'l1', 'kernel': 'epanechnikov', 'k': 4, 'leaf_size': 19, 'lowess_iterations': 1}. Best is trial 0 with value: 0.9814814814814815.\n",
      "[I 2024-03-12 15:47:37,588] Trial 85 finished with value: 0.9719626168224299 and parameters: {'window_type': 'non_fixed', 'metric': 'chebyshev', 'kernel': 'triangular', 'k': 7, 'leaf_size': 16, 'lowess_iterations': 1}. Best is trial 0 with value: 0.9814814814814815.\n",
      "[I 2024-03-12 15:47:38,365] Trial 86 finished with value: 0.9814814814814815 and parameters: {'window_type': 'non_fixed', 'metric': 'l1', 'kernel': 'triangular', 'k': 5, 'leaf_size': 48, 'lowess_iterations': 1}. Best is trial 0 with value: 0.9814814814814815.\n",
      "[I 2024-03-12 15:47:39,157] Trial 87 finished with value: 0.9814814814814815 and parameters: {'window_type': 'non_fixed', 'metric': 'l1', 'kernel': 'triangular', 'k': 6, 'leaf_size': 24, 'lowess_iterations': 1}. Best is trial 0 with value: 0.9814814814814815.\n",
      "[I 2024-03-12 15:47:39,794] Trial 88 finished with value: 0.9814814814814815 and parameters: {'window_type': 'non_fixed', 'metric': 'l1', 'kernel': 'uniform', 'k': 3, 'leaf_size': 22, 'lowess_iterations': 1}. Best is trial 0 with value: 0.9814814814814815.\n",
      "[I 2024-03-12 15:47:40,475] Trial 89 finished with value: 0.9814814814814815 and parameters: {'window_type': 'non_fixed', 'metric': 'l1', 'kernel': 'triangular', 'k': 4, 'leaf_size': 45, 'lowess_iterations': 1}. Best is trial 0 with value: 0.9814814814814815.\n",
      "[I 2024-03-12 15:47:41,209] Trial 90 finished with value: 0.9814814814814815 and parameters: {'window_type': 'non_fixed', 'metric': 'l1', 'kernel': 'triangular', 'k': 5, 'leaf_size': 14, 'lowess_iterations': 1}. Best is trial 0 with value: 0.9814814814814815.\n",
      "[I 2024-03-12 15:47:41,937] Trial 91 finished with value: 0.9814814814814815 and parameters: {'window_type': 'non_fixed', 'metric': 'l1', 'kernel': 'triangular', 'k': 5, 'leaf_size': 26, 'lowess_iterations': 1}. Best is trial 0 with value: 0.9814814814814815.\n",
      "[I 2024-03-12 15:47:42,700] Trial 92 finished with value: 0.9814814814814815 and parameters: {'window_type': 'non_fixed', 'metric': 'l1', 'kernel': 'triangular', 'k': 6, 'leaf_size': 33, 'lowess_iterations': 1}. Best is trial 0 with value: 0.9814814814814815.\n",
      "[I 2024-03-12 15:47:43,527] Trial 93 finished with value: 0.9814814814814815 and parameters: {'window_type': 'non_fixed', 'metric': 'l1', 'kernel': 'triangular', 'k': 7, 'leaf_size': 22, 'lowess_iterations': 1}. Best is trial 0 with value: 0.9814814814814815.\n",
      "[I 2024-03-12 15:47:44,216] Trial 94 finished with value: 0.9719626168224299 and parameters: {'window_type': 'non_fixed', 'metric': 'minkowski', 'kernel': 'triangular', 'k': 4, 'leaf_size': 30, 'lowess_iterations': 1}. Best is trial 0 with value: 0.9814814814814815.\n",
      "[I 2024-03-12 15:47:44,942] Trial 95 finished with value: 0.9719626168224299 and parameters: {'window_type': 'non_fixed', 'metric': 'euclidean', 'kernel': 'triangular', 'k': 5, 'leaf_size': 20, 'lowess_iterations': 1}. Best is trial 0 with value: 0.9814814814814815.\n",
      "[I 2024-03-12 15:47:45,677] Trial 96 finished with value: 0.9719626168224299 and parameters: {'window_type': 'fixed', 'window': 35000.0, 'metric': 'l1', 'kernel': 'gaussian', 'k': 6, 'leaf_size': 24, 'lowess_iterations': 1}. Best is trial 0 with value: 0.9814814814814815.\n",
      "[I 2024-03-12 15:47:46,395] Trial 97 finished with value: 0.9814814814814815 and parameters: {'window_type': 'non_fixed', 'metric': 'l1', 'kernel': 'triangular', 'k': 5, 'leaf_size': 26, 'lowess_iterations': 1}. Best is trial 0 with value: 0.9814814814814815.\n",
      "[I 2024-03-12 15:47:47,129] Trial 98 finished with value: 0.9811320754716981 and parameters: {'window_type': 'non_fixed', 'metric': 'l1', 'kernel': 'triangular', 'k': 3, 'leaf_size': 43, 'lowess_iterations': 1}. Best is trial 0 with value: 0.9814814814814815.\n",
      "[I 2024-03-12 15:47:47,810] Trial 99 finished with value: 0.9814814814814815 and parameters: {'window_type': 'non_fixed', 'metric': 'l1', 'kernel': 'epanechnikov', 'k': 4, 'leaf_size': 37, 'lowess_iterations': 1}. Best is trial 0 with value: 0.9814814814814815.\n"
     ]
    }
   ],
   "source": [
    "study = optuna.create_study(direction=\"maximize\", sampler=optuna.samplers.TPESampler(seed=random_state))\n",
    "study.optimize(optimize, n_trials=100)"
   ],
   "metadata": {
    "collapsed": false,
    "ExecuteTime": {
     "end_time": "2024-03-12T12:47:47.811707Z",
     "start_time": "2024-03-12T12:46:43.434704Z"
    }
   },
   "id": "504a4b9d12a9e8c6",
   "execution_count": 286
  },
  {
   "cell_type": "code",
   "outputs": [
    {
     "data": {
      "text/plain": "(0.9814814814814815,\n {'window_type': 'non_fixed',\n  'metric': 'l1',\n  'kernel': 'triangular',\n  'k': 5,\n  'leaf_size': 40,\n  'lowess_iterations': 1})"
     },
     "execution_count": 287,
     "metadata": {},
     "output_type": "execute_result"
    }
   ],
   "source": [
    "study.best_value, study.best_params"
   ],
   "metadata": {
    "collapsed": false,
    "ExecuteTime": {
     "end_time": "2024-03-12T12:48:19.795125Z",
     "start_time": "2024-03-12T12:48:19.791875Z"
    }
   },
   "id": "392e37ae5b0d0895",
   "execution_count": 287
  },
  {
   "cell_type": "code",
   "outputs": [
    {
     "data": {
      "text/plain": "0.935251798561151"
     },
     "execution_count": 288,
     "metadata": {},
     "output_type": "execute_result"
    }
   ],
   "source": [
    "knn = KNNClassifier(**study.best_params).fit(X_train, y_train)\n",
    "knn.score(X_test, y_test)"
   ],
   "metadata": {
    "collapsed": false,
    "ExecuteTime": {
     "end_time": "2024-03-12T12:48:27.061461Z",
     "start_time": "2024-03-12T12:48:26.186018Z"
    }
   },
   "id": "8006bafa2231c93d",
   "execution_count": 288
  },
  {
   "cell_type": "code",
   "outputs": [],
   "source": [
    "from sklearn.neighbors import KNeighborsClassifier\n",
    "\n",
    "\n",
    "def optimize_baseline(trial):\n",
    "    metric = trial.suggest_categorical('metric', ['euclidean', 'minkowski', 'chebyshev', 'l1'])\n",
    "    n_neighbors = trial.suggest_int('n_neighbors', 1, 15)\n",
    "    weights = trial.suggest_categorical('weights', ['uniform', 'distance'])\n",
    "    algorithm = trial.suggest_categorical('algorithm', ['ball_tree', 'kd_tree', 'brute', 'auto'])\n",
    "    leaf_size = trial.suggest_int('leaf_size', 10, 60)\n",
    "\n",
    "    knn = KNeighborsClassifier(n_neighbors=n_neighbors, weights=weights, algorithm=algorithm, leaf_size=leaf_size,\n",
    "                               metric=metric).fit(X_train, y_train)\n",
    "    return knn.score(X_val, y_val)"
   ],
   "metadata": {
    "collapsed": false,
    "ExecuteTime": {
     "end_time": "2024-03-12T12:48:31.908847Z",
     "start_time": "2024-03-12T12:48:31.905426Z"
    }
   },
   "id": "40e8bc4ab063f4a1",
   "execution_count": 289
  },
  {
   "cell_type": "code",
   "outputs": [
    {
     "name": "stderr",
     "output_type": "stream",
     "text": [
      "[I 2024-03-12 15:48:32,624] A new study created in memory with name: no-name-865a5cee-86c9-4791-99e0-07420d7f5905\n",
      "[I 2024-03-12 15:48:32,632] Trial 0 finished with value: 0.9340659340659341 and parameters: {'metric': 'minkowski', 'n_neighbors': 1, 'weights': 'uniform', 'algorithm': 'kd_tree', 'leaf_size': 40}. Best is trial 0 with value: 0.9340659340659341.\n",
      "[I 2024-03-12 15:48:32,635] Trial 1 finished with value: 0.967032967032967 and parameters: {'metric': 'euclidean', 'n_neighbors': 9, 'weights': 'distance', 'algorithm': 'kd_tree', 'leaf_size': 15}. Best is trial 1 with value: 0.967032967032967.\n",
      "[I 2024-03-12 15:48:32,643] Trial 2 finished with value: 0.967032967032967 and parameters: {'metric': 'l1', 'n_neighbors': 5, 'weights': 'uniform', 'algorithm': 'brute', 'leaf_size': 58}. Best is trial 1 with value: 0.967032967032967.\n",
      "[I 2024-03-12 15:48:32,649] Trial 3 finished with value: 0.9560439560439561 and parameters: {'metric': 'minkowski', 'n_neighbors': 7, 'weights': 'uniform', 'algorithm': 'ball_tree', 'leaf_size': 29}. Best is trial 1 with value: 0.967032967032967.\n",
      "[I 2024-03-12 15:48:32,665] Trial 4 finished with value: 0.967032967032967 and parameters: {'metric': 'l1', 'n_neighbors': 10, 'weights': 'distance', 'algorithm': 'brute', 'leaf_size': 12}. Best is trial 1 with value: 0.967032967032967.\n",
      "[I 2024-03-12 15:48:32,673] Trial 5 finished with value: 0.967032967032967 and parameters: {'metric': 'minkowski', 'n_neighbors': 10, 'weights': 'distance', 'algorithm': 'kd_tree', 'leaf_size': 32}. Best is trial 1 with value: 0.967032967032967.\n",
      "[I 2024-03-12 15:48:32,684] Trial 6 finished with value: 0.9230769230769231 and parameters: {'metric': 'l1', 'n_neighbors': 2, 'weights': 'uniform', 'algorithm': 'auto', 'leaf_size': 32}. Best is trial 1 with value: 0.967032967032967.\n",
      "[I 2024-03-12 15:48:32,689] Trial 7 finished with value: 0.967032967032967 and parameters: {'metric': 'minkowski', 'n_neighbors': 5, 'weights': 'distance', 'algorithm': 'kd_tree', 'leaf_size': 10}. Best is trial 1 with value: 0.967032967032967.\n",
      "[I 2024-03-12 15:48:32,698] Trial 8 finished with value: 0.9560439560439561 and parameters: {'metric': 'minkowski', 'n_neighbors': 6, 'weights': 'distance', 'algorithm': 'auto', 'leaf_size': 56}. Best is trial 1 with value: 0.967032967032967.\n",
      "[I 2024-03-12 15:48:32,706] Trial 9 finished with value: 0.967032967032967 and parameters: {'metric': 'l1', 'n_neighbors': 14, 'weights': 'distance', 'algorithm': 'auto', 'leaf_size': 16}. Best is trial 1 with value: 0.967032967032967.\n",
      "[I 2024-03-12 15:48:32,716] Trial 10 finished with value: 0.967032967032967 and parameters: {'metric': 'euclidean', 'n_neighbors': 15, 'weights': 'distance', 'algorithm': 'ball_tree', 'leaf_size': 21}. Best is trial 1 with value: 0.967032967032967.\n",
      "[I 2024-03-12 15:48:32,735] Trial 11 finished with value: 0.9560439560439561 and parameters: {'metric': 'euclidean', 'n_neighbors': 10, 'weights': 'uniform', 'algorithm': 'brute', 'leaf_size': 53}. Best is trial 1 with value: 0.967032967032967.\n",
      "[I 2024-03-12 15:48:32,752] Trial 12 finished with value: 0.9340659340659341 and parameters: {'metric': 'chebyshev', 'n_neighbors': 4, 'weights': 'uniform', 'algorithm': 'brute', 'leaf_size': 45}. Best is trial 1 with value: 0.967032967032967.\n",
      "[I 2024-03-12 15:48:32,766] Trial 13 finished with value: 0.967032967032967 and parameters: {'metric': 'euclidean', 'n_neighbors': 9, 'weights': 'uniform', 'algorithm': 'kd_tree', 'leaf_size': 23}. Best is trial 1 with value: 0.967032967032967.\n",
      "[I 2024-03-12 15:48:32,782] Trial 14 finished with value: 0.967032967032967 and parameters: {'metric': 'chebyshev', 'n_neighbors': 12, 'weights': 'distance', 'algorithm': 'brute', 'leaf_size': 46}. Best is trial 1 with value: 0.967032967032967.\n",
      "[I 2024-03-12 15:48:32,796] Trial 15 finished with value: 0.967032967032967 and parameters: {'metric': 'euclidean', 'n_neighbors': 3, 'weights': 'uniform', 'algorithm': 'kd_tree', 'leaf_size': 60}. Best is trial 1 with value: 0.967032967032967.\n",
      "[I 2024-03-12 15:48:32,810] Trial 16 finished with value: 0.967032967032967 and parameters: {'metric': 'l1', 'n_neighbors': 8, 'weights': 'distance', 'algorithm': 'brute', 'leaf_size': 39}. Best is trial 1 with value: 0.967032967032967.\n",
      "[I 2024-03-12 15:48:32,823] Trial 17 finished with value: 0.967032967032967 and parameters: {'metric': 'l1', 'n_neighbors': 12, 'weights': 'uniform', 'algorithm': 'ball_tree', 'leaf_size': 23}. Best is trial 1 with value: 0.967032967032967.\n",
      "[I 2024-03-12 15:48:32,833] Trial 18 finished with value: 0.9560439560439561 and parameters: {'metric': 'euclidean', 'n_neighbors': 6, 'weights': 'distance', 'algorithm': 'kd_tree', 'leaf_size': 49}. Best is trial 1 with value: 0.967032967032967.\n",
      "[I 2024-03-12 15:48:32,847] Trial 19 finished with value: 0.9340659340659341 and parameters: {'metric': 'chebyshev', 'n_neighbors': 4, 'weights': 'uniform', 'algorithm': 'brute', 'leaf_size': 38}. Best is trial 1 with value: 0.967032967032967.\n",
      "[I 2024-03-12 15:48:32,860] Trial 20 finished with value: 0.967032967032967 and parameters: {'metric': 'l1', 'n_neighbors': 8, 'weights': 'distance', 'algorithm': 'brute', 'leaf_size': 27}. Best is trial 1 with value: 0.967032967032967.\n",
      "[I 2024-03-12 15:48:32,874] Trial 21 finished with value: 0.967032967032967 and parameters: {'metric': 'l1', 'n_neighbors': 11, 'weights': 'distance', 'algorithm': 'brute', 'leaf_size': 11}. Best is trial 1 with value: 0.967032967032967.\n",
      "[I 2024-03-12 15:48:32,886] Trial 22 finished with value: 0.967032967032967 and parameters: {'metric': 'l1', 'n_neighbors': 9, 'weights': 'distance', 'algorithm': 'brute', 'leaf_size': 16}. Best is trial 1 with value: 0.967032967032967.\n",
      "[I 2024-03-12 15:48:32,897] Trial 23 finished with value: 0.967032967032967 and parameters: {'metric': 'l1', 'n_neighbors': 13, 'weights': 'distance', 'algorithm': 'brute', 'leaf_size': 15}. Best is trial 1 with value: 0.967032967032967.\n",
      "[I 2024-03-12 15:48:32,910] Trial 24 finished with value: 0.967032967032967 and parameters: {'metric': 'euclidean', 'n_neighbors': 7, 'weights': 'distance', 'algorithm': 'brute', 'leaf_size': 20}. Best is trial 1 with value: 0.967032967032967.\n",
      "[I 2024-03-12 15:48:32,919] Trial 25 finished with value: 0.967032967032967 and parameters: {'metric': 'l1', 'n_neighbors': 10, 'weights': 'distance', 'algorithm': 'kd_tree', 'leaf_size': 14}. Best is trial 1 with value: 0.967032967032967.\n",
      "[I 2024-03-12 15:48:32,932] Trial 26 finished with value: 0.967032967032967 and parameters: {'metric': 'l1', 'n_neighbors': 6, 'weights': 'uniform', 'algorithm': 'ball_tree', 'leaf_size': 19}. Best is trial 1 with value: 0.967032967032967.\n",
      "[I 2024-03-12 15:48:32,944] Trial 27 finished with value: 0.967032967032967 and parameters: {'metric': 'euclidean', 'n_neighbors': 9, 'weights': 'distance', 'algorithm': 'auto', 'leaf_size': 25}. Best is trial 1 with value: 0.967032967032967.\n",
      "[I 2024-03-12 15:48:32,957] Trial 28 finished with value: 0.9560439560439561 and parameters: {'metric': 'chebyshev', 'n_neighbors': 11, 'weights': 'uniform', 'algorithm': 'brute', 'leaf_size': 12}. Best is trial 1 with value: 0.967032967032967.\n",
      "[I 2024-03-12 15:48:32,967] Trial 29 finished with value: 0.967032967032967 and parameters: {'metric': 'l1', 'n_neighbors': 7, 'weights': 'uniform', 'algorithm': 'kd_tree', 'leaf_size': 43}. Best is trial 1 with value: 0.967032967032967.\n",
      "[I 2024-03-12 15:48:32,977] Trial 30 finished with value: 0.9340659340659341 and parameters: {'metric': 'euclidean', 'n_neighbors': 1, 'weights': 'distance', 'algorithm': 'kd_tree', 'leaf_size': 36}. Best is trial 1 with value: 0.967032967032967.\n",
      "[I 2024-03-12 15:48:32,986] Trial 31 finished with value: 0.967032967032967 and parameters: {'metric': 'minkowski', 'n_neighbors': 10, 'weights': 'distance', 'algorithm': 'kd_tree', 'leaf_size': 33}. Best is trial 1 with value: 0.967032967032967.\n",
      "[I 2024-03-12 15:48:32,996] Trial 32 finished with value: 0.967032967032967 and parameters: {'metric': 'minkowski', 'n_neighbors': 11, 'weights': 'distance', 'algorithm': 'kd_tree', 'leaf_size': 28}. Best is trial 1 with value: 0.967032967032967.\n",
      "[I 2024-03-12 15:48:33,006] Trial 33 finished with value: 0.967032967032967 and parameters: {'metric': 'minkowski', 'n_neighbors': 8, 'weights': 'distance', 'algorithm': 'kd_tree', 'leaf_size': 31}. Best is trial 1 with value: 0.967032967032967.\n",
      "[I 2024-03-12 15:48:33,015] Trial 34 finished with value: 0.967032967032967 and parameters: {'metric': 'minkowski', 'n_neighbors': 12, 'weights': 'distance', 'algorithm': 'kd_tree', 'leaf_size': 51}. Best is trial 1 with value: 0.967032967032967.\n",
      "[I 2024-03-12 15:48:33,026] Trial 35 finished with value: 0.967032967032967 and parameters: {'metric': 'minkowski', 'n_neighbors': 9, 'weights': 'distance', 'algorithm': 'auto', 'leaf_size': 18}. Best is trial 1 with value: 0.967032967032967.\n",
      "[I 2024-03-12 15:48:33,037] Trial 36 finished with value: 0.9560439560439561 and parameters: {'metric': 'minkowski', 'n_neighbors': 5, 'weights': 'uniform', 'algorithm': 'ball_tree', 'leaf_size': 10}. Best is trial 1 with value: 0.967032967032967.\n",
      "[I 2024-03-12 15:48:33,046] Trial 37 finished with value: 0.967032967032967 and parameters: {'metric': 'l1', 'n_neighbors': 13, 'weights': 'distance', 'algorithm': 'kd_tree', 'leaf_size': 43}. Best is trial 1 with value: 0.967032967032967.\n",
      "[I 2024-03-12 15:48:33,057] Trial 38 finished with value: 0.967032967032967 and parameters: {'metric': 'minkowski', 'n_neighbors': 10, 'weights': 'distance', 'algorithm': 'auto', 'leaf_size': 34}. Best is trial 1 with value: 0.967032967032967.\n",
      "[I 2024-03-12 15:48:33,070] Trial 39 finished with value: 0.967032967032967 and parameters: {'metric': 'l1', 'n_neighbors': 8, 'weights': 'uniform', 'algorithm': 'brute', 'leaf_size': 60}. Best is trial 1 with value: 0.967032967032967.\n",
      "[I 2024-03-12 15:48:33,079] Trial 40 finished with value: 0.967032967032967 and parameters: {'metric': 'euclidean', 'n_neighbors': 5, 'weights': 'distance', 'algorithm': 'kd_tree', 'leaf_size': 56}. Best is trial 1 with value: 0.967032967032967.\n",
      "[I 2024-03-12 15:48:33,089] Trial 41 finished with value: 0.967032967032967 and parameters: {'metric': 'minkowski', 'n_neighbors': 3, 'weights': 'distance', 'algorithm': 'kd_tree', 'leaf_size': 12}. Best is trial 1 with value: 0.967032967032967.\n",
      "[I 2024-03-12 15:48:33,099] Trial 42 finished with value: 0.967032967032967 and parameters: {'metric': 'minkowski', 'n_neighbors': 7, 'weights': 'distance', 'algorithm': 'kd_tree', 'leaf_size': 13}. Best is trial 1 with value: 0.967032967032967.\n",
      "[I 2024-03-12 15:48:33,108] Trial 43 finished with value: 0.967032967032967 and parameters: {'metric': 'minkowski', 'n_neighbors': 5, 'weights': 'distance', 'algorithm': 'kd_tree', 'leaf_size': 17}. Best is trial 1 with value: 0.967032967032967.\n",
      "[I 2024-03-12 15:48:33,119] Trial 44 finished with value: 0.9560439560439561 and parameters: {'metric': 'chebyshev', 'n_neighbors': 3, 'weights': 'distance', 'algorithm': 'brute', 'leaf_size': 22}. Best is trial 1 with value: 0.967032967032967.\n",
      "[I 2024-03-12 15:48:33,131] Trial 45 finished with value: 0.9560439560439561 and parameters: {'metric': 'minkowski', 'n_neighbors': 6, 'weights': 'uniform', 'algorithm': 'kd_tree', 'leaf_size': 10}. Best is trial 1 with value: 0.967032967032967.\n",
      "[I 2024-03-12 15:48:33,140] Trial 46 finished with value: 0.967032967032967 and parameters: {'metric': 'euclidean', 'n_neighbors': 4, 'weights': 'distance', 'algorithm': 'ball_tree', 'leaf_size': 14}. Best is trial 1 with value: 0.967032967032967.\n",
      "[I 2024-03-12 15:48:33,153] Trial 47 finished with value: 0.967032967032967 and parameters: {'metric': 'l1', 'n_neighbors': 9, 'weights': 'uniform', 'algorithm': 'brute', 'leaf_size': 25}. Best is trial 1 with value: 0.967032967032967.\n",
      "[I 2024-03-12 15:48:33,165] Trial 48 finished with value: 0.967032967032967 and parameters: {'metric': 'minkowski', 'n_neighbors': 11, 'weights': 'distance', 'algorithm': 'auto', 'leaf_size': 31}. Best is trial 1 with value: 0.967032967032967.\n",
      "[I 2024-03-12 15:48:33,175] Trial 49 finished with value: 0.967032967032967 and parameters: {'metric': 'euclidean', 'n_neighbors': 15, 'weights': 'distance', 'algorithm': 'kd_tree', 'leaf_size': 41}. Best is trial 1 with value: 0.967032967032967.\n",
      "[I 2024-03-12 15:48:33,188] Trial 50 finished with value: 0.9340659340659341 and parameters: {'metric': 'chebyshev', 'n_neighbors': 2, 'weights': 'uniform', 'algorithm': 'brute', 'leaf_size': 17}. Best is trial 1 with value: 0.967032967032967.\n",
      "[I 2024-03-12 15:48:33,200] Trial 51 finished with value: 0.967032967032967 and parameters: {'metric': 'l1', 'n_neighbors': 14, 'weights': 'distance', 'algorithm': 'auto', 'leaf_size': 15}. Best is trial 1 with value: 0.967032967032967.\n",
      "[I 2024-03-12 15:48:33,212] Trial 52 finished with value: 0.967032967032967 and parameters: {'metric': 'l1', 'n_neighbors': 14, 'weights': 'distance', 'algorithm': 'auto', 'leaf_size': 20}. Best is trial 1 with value: 0.967032967032967.\n",
      "[I 2024-03-12 15:48:33,224] Trial 53 finished with value: 0.967032967032967 and parameters: {'metric': 'l1', 'n_neighbors': 12, 'weights': 'distance', 'algorithm': 'auto', 'leaf_size': 48}. Best is trial 1 with value: 0.967032967032967.\n",
      "[I 2024-03-12 15:48:33,236] Trial 54 finished with value: 0.967032967032967 and parameters: {'metric': 'l1', 'n_neighbors': 10, 'weights': 'distance', 'algorithm': 'brute', 'leaf_size': 10}. Best is trial 1 with value: 0.967032967032967.\n",
      "[I 2024-03-12 15:48:33,248] Trial 55 finished with value: 0.967032967032967 and parameters: {'metric': 'l1', 'n_neighbors': 7, 'weights': 'distance', 'algorithm': 'auto', 'leaf_size': 13}. Best is trial 1 with value: 0.967032967032967.\n",
      "[I 2024-03-12 15:48:33,258] Trial 56 finished with value: 0.967032967032967 and parameters: {'metric': 'l1', 'n_neighbors': 13, 'weights': 'distance', 'algorithm': 'ball_tree', 'leaf_size': 37}. Best is trial 1 with value: 0.967032967032967.\n",
      "[I 2024-03-12 15:48:33,271] Trial 57 finished with value: 0.9560439560439561 and parameters: {'metric': 'euclidean', 'n_neighbors': 8, 'weights': 'uniform', 'algorithm': 'brute', 'leaf_size': 25}. Best is trial 1 with value: 0.967032967032967.\n",
      "[I 2024-03-12 15:48:33,281] Trial 58 finished with value: 0.967032967032967 and parameters: {'metric': 'l1', 'n_neighbors': 4, 'weights': 'distance', 'algorithm': 'kd_tree', 'leaf_size': 54}. Best is trial 1 with value: 0.967032967032967.\n",
      "[I 2024-03-12 15:48:33,293] Trial 59 finished with value: 0.967032967032967 and parameters: {'metric': 'chebyshev', 'n_neighbors': 9, 'weights': 'distance', 'algorithm': 'brute', 'leaf_size': 21}. Best is trial 1 with value: 0.967032967032967.\n",
      "[I 2024-03-12 15:48:33,306] Trial 60 finished with value: 0.9560439560439561 and parameters: {'metric': 'euclidean', 'n_neighbors': 6, 'weights': 'uniform', 'algorithm': 'kd_tree', 'leaf_size': 16}. Best is trial 1 with value: 0.967032967032967.\n",
      "[I 2024-03-12 15:48:33,316] Trial 61 finished with value: 0.967032967032967 and parameters: {'metric': 'euclidean', 'n_neighbors': 15, 'weights': 'distance', 'algorithm': 'ball_tree', 'leaf_size': 19}. Best is trial 1 with value: 0.967032967032967.\n",
      "[I 2024-03-12 15:48:33,326] Trial 62 finished with value: 0.967032967032967 and parameters: {'metric': 'euclidean', 'n_neighbors': 14, 'weights': 'distance', 'algorithm': 'ball_tree', 'leaf_size': 13}. Best is trial 1 with value: 0.967032967032967.\n",
      "[I 2024-03-12 15:48:33,336] Trial 63 finished with value: 0.967032967032967 and parameters: {'metric': 'euclidean', 'n_neighbors': 15, 'weights': 'distance', 'algorithm': 'ball_tree', 'leaf_size': 23}. Best is trial 1 with value: 0.967032967032967.\n",
      "[I 2024-03-12 15:48:33,346] Trial 64 finished with value: 0.967032967032967 and parameters: {'metric': 'l1', 'n_neighbors': 13, 'weights': 'distance', 'algorithm': 'ball_tree', 'leaf_size': 15}. Best is trial 1 with value: 0.967032967032967.\n",
      "[I 2024-03-12 15:48:33,356] Trial 65 finished with value: 0.967032967032967 and parameters: {'metric': 'euclidean', 'n_neighbors': 12, 'weights': 'distance', 'algorithm': 'kd_tree', 'leaf_size': 18}. Best is trial 1 with value: 0.967032967032967.\n",
      "[I 2024-03-12 15:48:33,368] Trial 66 finished with value: 0.967032967032967 and parameters: {'metric': 'minkowski', 'n_neighbors': 11, 'weights': 'distance', 'algorithm': 'brute', 'leaf_size': 29}. Best is trial 1 with value: 0.967032967032967.\n",
      "[I 2024-03-12 15:48:33,381] Trial 67 finished with value: 0.967032967032967 and parameters: {'metric': 'l1', 'n_neighbors': 5, 'weights': 'distance', 'algorithm': 'auto', 'leaf_size': 12}. Best is trial 1 with value: 0.967032967032967.\n",
      "[I 2024-03-12 15:48:33,393] Trial 68 finished with value: 0.967032967032967 and parameters: {'metric': 'euclidean', 'n_neighbors': 14, 'weights': 'uniform', 'algorithm': 'kd_tree', 'leaf_size': 27}. Best is trial 1 with value: 0.967032967032967.\n",
      "[I 2024-03-12 15:48:33,403] Trial 69 finished with value: 0.967032967032967 and parameters: {'metric': 'minkowski', 'n_neighbors': 8, 'weights': 'distance', 'algorithm': 'ball_tree', 'leaf_size': 11}. Best is trial 1 with value: 0.967032967032967.\n",
      "[I 2024-03-12 15:48:33,416] Trial 70 finished with value: 0.967032967032967 and parameters: {'metric': 'l1', 'n_neighbors': 10, 'weights': 'distance', 'algorithm': 'brute', 'leaf_size': 16}. Best is trial 1 with value: 0.967032967032967.\n",
      "[I 2024-03-12 15:48:33,429] Trial 71 finished with value: 0.967032967032967 and parameters: {'metric': 'euclidean', 'n_neighbors': 9, 'weights': 'uniform', 'algorithm': 'kd_tree', 'leaf_size': 21}. Best is trial 1 with value: 0.967032967032967.\n",
      "[I 2024-03-12 15:48:33,442] Trial 72 finished with value: 0.9560439560439561 and parameters: {'metric': 'euclidean', 'n_neighbors': 10, 'weights': 'uniform', 'algorithm': 'kd_tree', 'leaf_size': 24}. Best is trial 1 with value: 0.967032967032967.\n",
      "[I 2024-03-12 15:48:33,453] Trial 73 finished with value: 0.967032967032967 and parameters: {'metric': 'euclidean', 'n_neighbors': 9, 'weights': 'uniform', 'algorithm': 'kd_tree', 'leaf_size': 19}. Best is trial 1 with value: 0.967032967032967.\n",
      "[I 2024-03-12 15:48:33,466] Trial 74 finished with value: 0.9560439560439561 and parameters: {'metric': 'euclidean', 'n_neighbors': 8, 'weights': 'uniform', 'algorithm': 'kd_tree', 'leaf_size': 14}. Best is trial 1 with value: 0.967032967032967.\n",
      "[I 2024-03-12 15:48:33,478] Trial 75 finished with value: 0.9560439560439561 and parameters: {'metric': 'minkowski', 'n_neighbors': 7, 'weights': 'uniform', 'algorithm': 'kd_tree', 'leaf_size': 17}. Best is trial 1 with value: 0.967032967032967.\n",
      "[I 2024-03-12 15:48:33,489] Trial 76 finished with value: 0.9560439560439561 and parameters: {'metric': 'chebyshev', 'n_neighbors': 11, 'weights': 'distance', 'algorithm': 'kd_tree', 'leaf_size': 11}. Best is trial 1 with value: 0.967032967032967.\n",
      "[I 2024-03-12 15:48:33,502] Trial 77 finished with value: 0.9560439560439561 and parameters: {'metric': 'l1', 'n_neighbors': 4, 'weights': 'uniform', 'algorithm': 'brute', 'leaf_size': 35}. Best is trial 1 with value: 0.967032967032967.\n",
      "[I 2024-03-12 15:48:33,515] Trial 78 finished with value: 0.967032967032967 and parameters: {'metric': 'minkowski', 'n_neighbors': 15, 'weights': 'distance', 'algorithm': 'auto', 'leaf_size': 31}. Best is trial 1 with value: 0.967032967032967.\n",
      "[I 2024-03-12 15:48:33,526] Trial 79 finished with value: 0.967032967032967 and parameters: {'metric': 'euclidean', 'n_neighbors': 10, 'weights': 'distance', 'algorithm': 'kd_tree', 'leaf_size': 40}. Best is trial 1 with value: 0.967032967032967.\n",
      "[I 2024-03-12 15:48:33,538] Trial 80 finished with value: 0.9560439560439561 and parameters: {'metric': 'l1', 'n_neighbors': 1, 'weights': 'distance', 'algorithm': 'brute', 'leaf_size': 45}. Best is trial 1 with value: 0.967032967032967.\n",
      "[I 2024-03-12 15:48:33,551] Trial 81 finished with value: 0.967032967032967 and parameters: {'metric': 'chebyshev', 'n_neighbors': 13, 'weights': 'distance', 'algorithm': 'brute', 'leaf_size': 49}. Best is trial 1 with value: 0.967032967032967.\n",
      "[I 2024-03-12 15:48:33,564] Trial 82 finished with value: 0.967032967032967 and parameters: {'metric': 'chebyshev', 'n_neighbors': 12, 'weights': 'distance', 'algorithm': 'brute', 'leaf_size': 58}. Best is trial 1 with value: 0.967032967032967.\n",
      "[I 2024-03-12 15:48:33,577] Trial 83 finished with value: 0.9560439560439561 and parameters: {'metric': 'chebyshev', 'n_neighbors': 11, 'weights': 'distance', 'algorithm': 'brute', 'leaf_size': 52}. Best is trial 1 with value: 0.967032967032967.\n",
      "[I 2024-03-12 15:48:33,590] Trial 84 finished with value: 0.967032967032967 and parameters: {'metric': 'chebyshev', 'n_neighbors': 9, 'weights': 'distance', 'algorithm': 'brute', 'leaf_size': 45}. Best is trial 1 with value: 0.967032967032967.\n",
      "[I 2024-03-12 15:48:33,602] Trial 85 finished with value: 0.967032967032967 and parameters: {'metric': 'minkowski', 'n_neighbors': 14, 'weights': 'distance', 'algorithm': 'kd_tree', 'leaf_size': 56}. Best is trial 1 with value: 0.967032967032967.\n",
      "[I 2024-03-12 15:48:33,614] Trial 86 finished with value: 0.967032967032967 and parameters: {'metric': 'l1', 'n_neighbors': 10, 'weights': 'uniform', 'algorithm': 'ball_tree', 'leaf_size': 29}. Best is trial 1 with value: 0.967032967032967.\n",
      "[I 2024-03-12 15:48:33,627] Trial 87 finished with value: 0.967032967032967 and parameters: {'metric': 'euclidean', 'n_neighbors': 9, 'weights': 'distance', 'algorithm': 'auto', 'leaf_size': 12}. Best is trial 1 with value: 0.967032967032967.\n",
      "[I 2024-03-12 15:48:33,640] Trial 88 finished with value: 0.967032967032967 and parameters: {'metric': 'minkowski', 'n_neighbors': 12, 'weights': 'distance', 'algorithm': 'brute', 'leaf_size': 47}. Best is trial 1 with value: 0.967032967032967.\n",
      "[I 2024-03-12 15:48:33,653] Trial 89 finished with value: 0.9560439560439561 and parameters: {'metric': 'chebyshev', 'n_neighbors': 6, 'weights': 'uniform', 'algorithm': 'kd_tree', 'leaf_size': 43}. Best is trial 1 with value: 0.967032967032967.\n",
      "[I 2024-03-12 15:48:33,664] Trial 90 finished with value: 0.967032967032967 and parameters: {'metric': 'l1', 'n_neighbors': 5, 'weights': 'distance', 'algorithm': 'kd_tree', 'leaf_size': 58}. Best is trial 1 with value: 0.967032967032967.\n",
      "[I 2024-03-12 15:48:33,677] Trial 91 finished with value: 0.967032967032967 and parameters: {'metric': 'euclidean', 'n_neighbors': 3, 'weights': 'uniform', 'algorithm': 'kd_tree', 'leaf_size': 59}. Best is trial 1 with value: 0.967032967032967.\n",
      "[I 2024-03-12 15:48:33,690] Trial 92 finished with value: 0.9560439560439561 and parameters: {'metric': 'euclidean', 'n_neighbors': 4, 'weights': 'uniform', 'algorithm': 'kd_tree', 'leaf_size': 60}. Best is trial 1 with value: 0.967032967032967.\n",
      "[I 2024-03-12 15:48:33,702] Trial 93 finished with value: 0.9230769230769231 and parameters: {'metric': 'euclidean', 'n_neighbors': 2, 'weights': 'uniform', 'algorithm': 'kd_tree', 'leaf_size': 55}. Best is trial 1 with value: 0.967032967032967.\n",
      "[I 2024-03-12 15:48:33,715] Trial 94 finished with value: 0.967032967032967 and parameters: {'metric': 'euclidean', 'n_neighbors': 3, 'weights': 'uniform', 'algorithm': 'kd_tree', 'leaf_size': 15}. Best is trial 1 with value: 0.967032967032967.\n",
      "[I 2024-03-12 15:48:33,728] Trial 95 finished with value: 0.967032967032967 and parameters: {'metric': 'euclidean', 'n_neighbors': 8, 'weights': 'distance', 'algorithm': 'brute', 'leaf_size': 22}. Best is trial 1 with value: 0.967032967032967.\n",
      "[I 2024-03-12 15:48:33,741] Trial 96 finished with value: 0.967032967032967 and parameters: {'metric': 'l1', 'n_neighbors': 15, 'weights': 'uniform', 'algorithm': 'ball_tree', 'leaf_size': 58}. Best is trial 1 with value: 0.967032967032967.\n",
      "[I 2024-03-12 15:48:33,753] Trial 97 finished with value: 0.967032967032967 and parameters: {'metric': 'minkowski', 'n_neighbors': 10, 'weights': 'distance', 'algorithm': 'auto', 'leaf_size': 26}. Best is trial 1 with value: 0.967032967032967.\n",
      "[I 2024-03-12 15:48:33,765] Trial 98 finished with value: 0.967032967032967 and parameters: {'metric': 'euclidean', 'n_neighbors': 13, 'weights': 'distance', 'algorithm': 'kd_tree', 'leaf_size': 50}. Best is trial 1 with value: 0.967032967032967.\n",
      "[I 2024-03-12 15:48:33,780] Trial 99 finished with value: 0.967032967032967 and parameters: {'metric': 'l1', 'n_neighbors': 14, 'weights': 'uniform', 'algorithm': 'brute', 'leaf_size': 18}. Best is trial 1 with value: 0.967032967032967.\n"
     ]
    }
   ],
   "source": [
    "baseline_study = optuna.create_study(direction=\"maximize\", sampler=optuna.samplers.TPESampler(seed=random_state))\n",
    "baseline_study.optimize(optimize_baseline, n_trials=100)"
   ],
   "metadata": {
    "collapsed": false,
    "ExecuteTime": {
     "end_time": "2024-03-12T12:48:33.781363Z",
     "start_time": "2024-03-12T12:48:32.622543Z"
    }
   },
   "id": "400661e9cdb31563",
   "execution_count": 290
  },
  {
   "cell_type": "code",
   "outputs": [
    {
     "data": {
      "text/plain": "(0.967032967032967,\n {'metric': 'euclidean',\n  'n_neighbors': 9,\n  'weights': 'distance',\n  'algorithm': 'kd_tree',\n  'leaf_size': 15})"
     },
     "execution_count": 291,
     "metadata": {},
     "output_type": "execute_result"
    }
   ],
   "source": [
    "baseline_study.best_value, baseline_study.best_params"
   ],
   "metadata": {
    "collapsed": false,
    "ExecuteTime": {
     "end_time": "2024-03-12T12:48:36.499110Z",
     "start_time": "2024-03-12T12:48:36.494577Z"
    }
   },
   "id": "12d4ef83b8694a11",
   "execution_count": 291
  },
  {
   "cell_type": "code",
   "outputs": [
    {
     "data": {
      "text/plain": "0.9122807017543859"
     },
     "execution_count": 292,
     "metadata": {},
     "output_type": "execute_result"
    }
   ],
   "source": [
    "baseline = KNeighborsClassifier(**baseline_study.best_params).fit(X_train, y_train)\n",
    "baseline.score(X_test, y_test)"
   ],
   "metadata": {
    "collapsed": false,
    "ExecuteTime": {
     "end_time": "2024-03-12T12:48:42.232072Z",
     "start_time": "2024-03-12T12:48:42.224587Z"
    }
   },
   "id": "20cd712624460f94",
   "execution_count": 292
  },
  {
   "cell_type": "code",
   "outputs": [
    {
     "data": {
      "text/plain": "<Figure size 1000x600 with 1 Axes>",
      "image/png": "[encoded data removed]"
     },
     "metadata": {},
     "output_type": "display_data"
    }
   ],
   "source": [
    "import matplotlib.pyplot as plt\n",
    "\n",
    "\n",
    "def plot(k: int, X, y):\n",
    "    params = study.best_params\n",
    "    params['k'] = k\n",
    "    knn = KNNClassifier(**params).fit(X_train, y_train)\n",
    "    return knn.score(X, y)\n",
    "\n",
    "\n",
    "def plot_baseline(k: int, X, y):\n",
    "    params = baseline_study.best_params\n",
    "    params['n_neighbors'] = k\n",
    "    baseline = KNeighborsClassifier(**params).fit(X_train, y_train)\n",
    "    return baseline.score(X, y)\n",
    "\n",
    "\n",
    "ks = list(range(1, 50))\n",
    "plt.figure(figsize=(10, 6))\n",
    "plt.plot(ks, [plot(k, X_train, y_train) for k in ks], label='train, implementation')\n",
    "plt.plot(ks, [plot_baseline(k, X_train, y_train) for k in ks], label='train, baseline')\n",
    "plt.plot(ks, [plot(k, X_test, y_test) for k in ks], label='test, implementation')\n",
    "plt.plot(ks, [plot_baseline(k, X_test, y_test) for k in ks], label='test, baseline')\n",
    "plt.legend();"
   ],
   "metadata": {
    "collapsed": false,
    "ExecuteTime": {
     "end_time": "2024-03-12T12:50:45.944492Z",
     "start_time": "2024-03-12T12:48:44.102322Z"
    }
   },
   "id": "fcdb3252fc4b15cf",
   "execution_count": 293
  },
  {
   "cell_type": "code",
   "outputs": [],
   "source": [],
   "metadata": {
    "collapsed": false
   },
   "id": "791a535978d2526"
  }
 ],
 "metadata": {
  "kernelspec": {
   "display_name": "Python 3",
   "language": "python",
   "name": "python3"
  },
  "language_info": {
   "codemirror_mode": {
    "name": "ipython",
    "version": 2
   },
   "file_extension": ".py",
   "mimetype": "text/x-python",
   "name": "python",
   "nbconvert_exporter": "python",
   "pygments_lexer": "ipython2",
   "version": "2.7.6"
  }
 },
 "nbformat": 4,
 "nbformat_minor": 5
}
